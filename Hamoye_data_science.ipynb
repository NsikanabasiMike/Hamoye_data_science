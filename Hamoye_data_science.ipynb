{
 "cells": [
  {
   "cell_type": "markdown",
   "id": "61e8006c",
   "metadata": {},
   "source": [
    "## Import necessary libraries"
   ]
  },
  {
   "cell_type": "code",
   "execution_count": 1,
   "id": "d4232d8f",
   "metadata": {},
   "outputs": [],
   "source": [
    "import pandas as pd\n",
    "import numpy as np"
   ]
  },
  {
   "cell_type": "code",
   "execution_count": 2,
   "id": "a3b247b5",
   "metadata": {
    "scrolled": true
   },
   "outputs": [
    {
     "data": {
      "text/html": [
       "<div>\n",
       "<style scoped>\n",
       "    .dataframe tbody tr th:only-of-type {\n",
       "        vertical-align: middle;\n",
       "    }\n",
       "\n",
       "    .dataframe tbody tr th {\n",
       "        vertical-align: top;\n",
       "    }\n",
       "\n",
       "    .dataframe thead th {\n",
       "        text-align: right;\n",
       "    }\n",
       "</style>\n",
       "<table border=\"1\" class=\"dataframe\">\n",
       "  <thead>\n",
       "    <tr style=\"text-align: right;\">\n",
       "      <th></th>\n",
       "      <th>Area Code</th>\n",
       "      <th>Area</th>\n",
       "      <th>Item Code</th>\n",
       "      <th>Item</th>\n",
       "      <th>Element Code</th>\n",
       "      <th>Element</th>\n",
       "      <th>Unit</th>\n",
       "      <th>Y2014</th>\n",
       "      <th>Y2015</th>\n",
       "      <th>Y2016</th>\n",
       "      <th>Y2017</th>\n",
       "      <th>Y2018</th>\n",
       "    </tr>\n",
       "  </thead>\n",
       "  <tbody>\n",
       "    <tr>\n",
       "      <th>0</th>\n",
       "      <td>4</td>\n",
       "      <td>Algeria</td>\n",
       "      <td>2501</td>\n",
       "      <td>Population</td>\n",
       "      <td>511</td>\n",
       "      <td>Total Population - Both sexes</td>\n",
       "      <td>1000 persons</td>\n",
       "      <td>38924.00</td>\n",
       "      <td>39728.00</td>\n",
       "      <td>40551.00</td>\n",
       "      <td>41389.00</td>\n",
       "      <td>42228.00</td>\n",
       "    </tr>\n",
       "    <tr>\n",
       "      <th>1</th>\n",
       "      <td>4</td>\n",
       "      <td>Algeria</td>\n",
       "      <td>2501</td>\n",
       "      <td>Population</td>\n",
       "      <td>5301</td>\n",
       "      <td>Domestic supply quantity</td>\n",
       "      <td>1000 tonnes</td>\n",
       "      <td>0.00</td>\n",
       "      <td>0.00</td>\n",
       "      <td>0.00</td>\n",
       "      <td>0.00</td>\n",
       "      <td>0.00</td>\n",
       "    </tr>\n",
       "    <tr>\n",
       "      <th>2</th>\n",
       "      <td>4</td>\n",
       "      <td>Algeria</td>\n",
       "      <td>2901</td>\n",
       "      <td>Grand Total</td>\n",
       "      <td>664</td>\n",
       "      <td>Food supply (kcal/capita/day)</td>\n",
       "      <td>kcal/capita/day</td>\n",
       "      <td>3377.00</td>\n",
       "      <td>3379.00</td>\n",
       "      <td>3372.00</td>\n",
       "      <td>3341.00</td>\n",
       "      <td>3322.00</td>\n",
       "    </tr>\n",
       "    <tr>\n",
       "      <th>3</th>\n",
       "      <td>4</td>\n",
       "      <td>Algeria</td>\n",
       "      <td>2901</td>\n",
       "      <td>Grand Total</td>\n",
       "      <td>674</td>\n",
       "      <td>Protein supply quantity (g/capita/day)</td>\n",
       "      <td>g/capita/day</td>\n",
       "      <td>94.90</td>\n",
       "      <td>94.35</td>\n",
       "      <td>94.72</td>\n",
       "      <td>92.82</td>\n",
       "      <td>91.83</td>\n",
       "    </tr>\n",
       "    <tr>\n",
       "      <th>4</th>\n",
       "      <td>4</td>\n",
       "      <td>Algeria</td>\n",
       "      <td>2901</td>\n",
       "      <td>Grand Total</td>\n",
       "      <td>684</td>\n",
       "      <td>Fat supply quantity (g/capita/day)</td>\n",
       "      <td>g/capita/day</td>\n",
       "      <td>80.06</td>\n",
       "      <td>79.36</td>\n",
       "      <td>77.40</td>\n",
       "      <td>80.19</td>\n",
       "      <td>77.28</td>\n",
       "    </tr>\n",
       "  </tbody>\n",
       "</table>\n",
       "</div>"
      ],
      "text/plain": [
       "   Area Code     Area  Item Code         Item  Element Code  \\\n",
       "0          4  Algeria       2501   Population           511   \n",
       "1          4  Algeria       2501   Population          5301   \n",
       "2          4  Algeria       2901  Grand Total           664   \n",
       "3          4  Algeria       2901  Grand Total           674   \n",
       "4          4  Algeria       2901  Grand Total           684   \n",
       "\n",
       "                                  Element             Unit     Y2014  \\\n",
       "0           Total Population - Both sexes     1000 persons  38924.00   \n",
       "1                Domestic supply quantity      1000 tonnes      0.00   \n",
       "2           Food supply (kcal/capita/day)  kcal/capita/day   3377.00   \n",
       "3  Protein supply quantity (g/capita/day)     g/capita/day     94.90   \n",
       "4      Fat supply quantity (g/capita/day)     g/capita/day     80.06   \n",
       "\n",
       "      Y2015     Y2016     Y2017     Y2018  \n",
       "0  39728.00  40551.00  41389.00  42228.00  \n",
       "1      0.00      0.00      0.00      0.00  \n",
       "2   3379.00   3372.00   3341.00   3322.00  \n",
       "3     94.35     94.72     92.82     91.83  \n",
       "4     79.36     77.40     80.19     77.28  "
      ]
     },
     "execution_count": 2,
     "metadata": {},
     "output_type": "execute_result"
    }
   ],
   "source": [
    "df = pd.read_csv('FoodBalanceSheets_E_Africa_NOFLAG.csv')\n",
    "df.head()"
   ]
  },
  {
   "cell_type": "code",
   "execution_count": 3,
   "id": "6e783cce",
   "metadata": {
    "scrolled": true
   },
   "outputs": [
    {
     "data": {
      "text/plain": [
       "Index(['Area Code', 'Area', 'Item Code', 'Item', 'Element Code', 'Element',\n",
       "       'Unit', 'Y2014', 'Y2015', 'Y2016', 'Y2017', 'Y2018'],\n",
       "      dtype='object')"
      ]
     },
     "execution_count": 3,
     "metadata": {},
     "output_type": "execute_result"
    }
   ],
   "source": [
    "df.columns"
   ]
  },
  {
   "cell_type": "markdown",
   "id": "aae007f9",
   "metadata": {},
   "source": [
    "## Rename some columns"
   ]
  },
  {
   "cell_type": "code",
   "execution_count": 4,
   "id": "d5856d1f",
   "metadata": {
    "scrolled": true
   },
   "outputs": [
    {
     "data": {
      "text/plain": [
       "Index(['Area_code', 'Area', 'Item_code', 'Item', 'Element_code', 'Element',\n",
       "       'Unit', 'Y2014', 'Y2015', 'Y2016', 'Y2017', 'Y2018'],\n",
       "      dtype='object')"
      ]
     },
     "execution_count": 4,
     "metadata": {},
     "output_type": "execute_result"
    }
   ],
   "source": [
    "df.rename(columns={'Area Code': 'Area_code', 'Item Code': 'Item_code', 'Element Code': 'Element_code'}, inplace=True)\n",
    "df.columns"
   ]
  },
  {
   "cell_type": "markdown",
   "id": "5a5b4051",
   "metadata": {},
   "source": [
    "## **Check the data types of the variables in dataset**"
   ]
  },
  {
   "cell_type": "code",
   "execution_count": 5,
   "id": "b122fdb3",
   "metadata": {},
   "outputs": [
    {
     "data": {
      "text/plain": [
       "Area_code         int64\n",
       "Area             object\n",
       "Item_code         int64\n",
       "Item             object\n",
       "Element_code      int64\n",
       "Element          object\n",
       "Unit             object\n",
       "Y2014           float64\n",
       "Y2015           float64\n",
       "Y2016           float64\n",
       "Y2017           float64\n",
       "Y2018           float64\n",
       "dtype: object"
      ]
     },
     "execution_count": 5,
     "metadata": {},
     "output_type": "execute_result"
    }
   ],
   "source": [
    "df.dtypes"
   ]
  },
  {
   "cell_type": "code",
   "execution_count": 6,
   "id": "825b3c6f",
   "metadata": {},
   "outputs": [],
   "source": [
    "## Inspect the number of rows and columns in dataset"
   ]
  },
  {
   "cell_type": "code",
   "execution_count": 7,
   "id": "a25fe15e",
   "metadata": {},
   "outputs": [
    {
     "data": {
      "text/plain": [
       "(60943, 12)"
      ]
     },
     "execution_count": 7,
     "metadata": {},
     "output_type": "execute_result"
    }
   ],
   "source": [
    "df.shape"
   ]
  },
  {
   "cell_type": "code",
   "execution_count": 8,
   "id": "2acfbd62",
   "metadata": {
    "scrolled": true
   },
   "outputs": [],
   "source": [
    "# What is the total sum of Animal Fat produced in 2014 and 2017 respectively"
   ]
  },
  {
   "cell_type": "code",
   "execution_count": 9,
   "id": "053bd2fd",
   "metadata": {},
   "outputs": [
    {
     "data": {
      "text/plain": [
       "209460.54"
      ]
     },
     "execution_count": 9,
     "metadata": {},
     "output_type": "execute_result"
    }
   ],
   "source": [
    "animal_fat = df.groupby('Item')\n",
    "animal_fat.get_group('Animal fats').Y2014.sum()"
   ]
  },
  {
   "cell_type": "code",
   "execution_count": 10,
   "id": "9a2eac11",
   "metadata": {},
   "outputs": [
    {
     "data": {
      "text/plain": [
       "269648.27"
      ]
     },
     "execution_count": 10,
     "metadata": {},
     "output_type": "execute_result"
    }
   ],
   "source": [
    "animal_fat.get_group('Animal fats').Y2018.sum()"
   ]
  },
  {
   "cell_type": "code",
   "execution_count": 11,
   "id": "8bc6ac67",
   "metadata": {
    "scrolled": true
   },
   "outputs": [],
   "source": [
    "# What is the mean and standard deviation across the whole dataset for the year 2015 to 3 decimal places?"
   ]
  },
  {
   "cell_type": "code",
   "execution_count": 12,
   "id": "e777653e",
   "metadata": {},
   "outputs": [
    {
     "data": {
      "text/plain": [
       "135.236"
      ]
     },
     "execution_count": 12,
     "metadata": {},
     "output_type": "execute_result"
    }
   ],
   "source": [
    "round(df['Y2015'].mean(),3)"
   ]
  },
  {
   "cell_type": "code",
   "execution_count": 13,
   "id": "e1d0884e",
   "metadata": {},
   "outputs": [
    {
     "data": {
      "text/plain": [
       "1603.404"
      ]
     },
     "execution_count": 13,
     "metadata": {},
     "output_type": "execute_result"
    }
   ],
   "source": [
    "round(df['Y2015'].std(),3)"
   ]
  },
  {
   "cell_type": "code",
   "execution_count": 14,
   "id": "09e0e8f4",
   "metadata": {},
   "outputs": [],
   "source": [
    "# What is the total number and percentage of missing data in 2016 to 2 decimal places?"
   ]
  },
  {
   "cell_type": "code",
   "execution_count": 15,
   "id": "9870287d",
   "metadata": {},
   "outputs": [],
   "source": [
    "nan_len = df.Y2016.isna().sum().sum()"
   ]
  },
  {
   "cell_type": "code",
   "execution_count": 16,
   "id": "b7adeb58",
   "metadata": {},
   "outputs": [
    {
     "data": {
      "text/plain": [
       "2.52"
      ]
     },
     "execution_count": 16,
     "metadata": {},
     "output_type": "execute_result"
    }
   ],
   "source": [
    "percent = (nan_len/len(df))*100\n",
    "percent.round(2)"
   ]
  },
  {
   "cell_type": "code",
   "execution_count": 17,
   "id": "2fbab461",
   "metadata": {},
   "outputs": [
    {
     "data": {
      "text/html": [
       "<div>\n",
       "<style scoped>\n",
       "    .dataframe tbody tr th:only-of-type {\n",
       "        vertical-align: middle;\n",
       "    }\n",
       "\n",
       "    .dataframe tbody tr th {\n",
       "        vertical-align: top;\n",
       "    }\n",
       "\n",
       "    .dataframe thead th {\n",
       "        text-align: right;\n",
       "    }\n",
       "</style>\n",
       "<table border=\"1\" class=\"dataframe\">\n",
       "  <thead>\n",
       "    <tr style=\"text-align: right;\">\n",
       "      <th></th>\n",
       "      <th>Area_code</th>\n",
       "      <th>Item_code</th>\n",
       "      <th>Element_code</th>\n",
       "      <th>Y2014</th>\n",
       "      <th>Y2015</th>\n",
       "      <th>Y2016</th>\n",
       "      <th>Y2017</th>\n",
       "      <th>Y2018</th>\n",
       "    </tr>\n",
       "  </thead>\n",
       "  <tbody>\n",
       "    <tr>\n",
       "      <th>Area_code</th>\n",
       "      <td>1.000000</td>\n",
       "      <td>-0.005159</td>\n",
       "      <td>-0.000209</td>\n",
       "      <td>0.006164</td>\n",
       "      <td>0.005472</td>\n",
       "      <td>0.005247</td>\n",
       "      <td>0.005006</td>\n",
       "      <td>0.005665</td>\n",
       "    </tr>\n",
       "    <tr>\n",
       "      <th>Item_code</th>\n",
       "      <td>-0.005159</td>\n",
       "      <td>1.000000</td>\n",
       "      <td>-0.024683</td>\n",
       "      <td>0.021722</td>\n",
       "      <td>0.020857</td>\n",
       "      <td>0.020109</td>\n",
       "      <td>0.021494</td>\n",
       "      <td>0.021314</td>\n",
       "    </tr>\n",
       "    <tr>\n",
       "      <th>Element_code</th>\n",
       "      <td>-0.000209</td>\n",
       "      <td>-0.024683</td>\n",
       "      <td>1.000000</td>\n",
       "      <td>0.024457</td>\n",
       "      <td>0.023889</td>\n",
       "      <td>0.023444</td>\n",
       "      <td>0.024254</td>\n",
       "      <td>0.024279</td>\n",
       "    </tr>\n",
       "    <tr>\n",
       "      <th>Y2014</th>\n",
       "      <td>0.006164</td>\n",
       "      <td>0.021722</td>\n",
       "      <td>0.024457</td>\n",
       "      <td>1.000000</td>\n",
       "      <td>0.994647</td>\n",
       "      <td>0.996081</td>\n",
       "      <td>0.995230</td>\n",
       "      <td>0.994872</td>\n",
       "    </tr>\n",
       "    <tr>\n",
       "      <th>Y2015</th>\n",
       "      <td>0.005472</td>\n",
       "      <td>0.020857</td>\n",
       "      <td>0.023889</td>\n",
       "      <td>0.994647</td>\n",
       "      <td>1.000000</td>\n",
       "      <td>0.995739</td>\n",
       "      <td>0.988048</td>\n",
       "      <td>0.988208</td>\n",
       "    </tr>\n",
       "    <tr>\n",
       "      <th>Y2016</th>\n",
       "      <td>0.005247</td>\n",
       "      <td>0.020109</td>\n",
       "      <td>0.023444</td>\n",
       "      <td>0.996081</td>\n",
       "      <td>0.995739</td>\n",
       "      <td>1.000000</td>\n",
       "      <td>0.992785</td>\n",
       "      <td>0.992757</td>\n",
       "    </tr>\n",
       "    <tr>\n",
       "      <th>Y2017</th>\n",
       "      <td>0.005006</td>\n",
       "      <td>0.021494</td>\n",
       "      <td>0.024254</td>\n",
       "      <td>0.995230</td>\n",
       "      <td>0.988048</td>\n",
       "      <td>0.992785</td>\n",
       "      <td>1.000000</td>\n",
       "      <td>0.998103</td>\n",
       "    </tr>\n",
       "    <tr>\n",
       "      <th>Y2018</th>\n",
       "      <td>0.005665</td>\n",
       "      <td>0.021314</td>\n",
       "      <td>0.024279</td>\n",
       "      <td>0.994872</td>\n",
       "      <td>0.988208</td>\n",
       "      <td>0.992757</td>\n",
       "      <td>0.998103</td>\n",
       "      <td>1.000000</td>\n",
       "    </tr>\n",
       "  </tbody>\n",
       "</table>\n",
       "</div>"
      ],
      "text/plain": [
       "              Area_code  Item_code  Element_code     Y2014     Y2015  \\\n",
       "Area_code      1.000000  -0.005159     -0.000209  0.006164  0.005472   \n",
       "Item_code     -0.005159   1.000000     -0.024683  0.021722  0.020857   \n",
       "Element_code  -0.000209  -0.024683      1.000000  0.024457  0.023889   \n",
       "Y2014          0.006164   0.021722      0.024457  1.000000  0.994647   \n",
       "Y2015          0.005472   0.020857      0.023889  0.994647  1.000000   \n",
       "Y2016          0.005247   0.020109      0.023444  0.996081  0.995739   \n",
       "Y2017          0.005006   0.021494      0.024254  0.995230  0.988048   \n",
       "Y2018          0.005665   0.021314      0.024279  0.994872  0.988208   \n",
       "\n",
       "                 Y2016     Y2017     Y2018  \n",
       "Area_code     0.005247  0.005006  0.005665  \n",
       "Item_code     0.020109  0.021494  0.021314  \n",
       "Element_code  0.023444  0.024254  0.024279  \n",
       "Y2014         0.996081  0.995230  0.994872  \n",
       "Y2015         0.995739  0.988048  0.988208  \n",
       "Y2016         1.000000  0.992785  0.992757  \n",
       "Y2017         0.992785  1.000000  0.998103  \n",
       "Y2018         0.992757  0.998103  1.000000  "
      ]
     },
     "execution_count": 17,
     "metadata": {},
     "output_type": "execute_result"
    }
   ],
   "source": [
    "# Which year had the highest correlation with ‘Element Code’? \n",
    "df.corr()"
   ]
  },
  {
   "cell_type": "code",
   "execution_count": 18,
   "id": "6f0b44b5",
   "metadata": {},
   "outputs": [],
   "source": [
    "# Answer: Y2014 had the highest correlation with Element code"
   ]
  },
  {
   "cell_type": "code",
   "execution_count": 19,
   "id": "90cca8bd",
   "metadata": {},
   "outputs": [],
   "source": [
    "# What year has the highest sum of Import Quantity?"
   ]
  },
  {
   "cell_type": "code",
   "execution_count": 20,
   "id": "db00b26c",
   "metadata": {
    "scrolled": true
   },
   "outputs": [
    {
     "data": {
      "text/html": [
       "<div>\n",
       "<style scoped>\n",
       "    .dataframe tbody tr th:only-of-type {\n",
       "        vertical-align: middle;\n",
       "    }\n",
       "\n",
       "    .dataframe tbody tr th {\n",
       "        vertical-align: top;\n",
       "    }\n",
       "\n",
       "    .dataframe thead th {\n",
       "        text-align: right;\n",
       "    }\n",
       "</style>\n",
       "<table border=\"1\" class=\"dataframe\">\n",
       "  <thead>\n",
       "    <tr style=\"text-align: right;\">\n",
       "      <th></th>\n",
       "      <th>Area_code</th>\n",
       "      <th>Item_code</th>\n",
       "      <th>Element_code</th>\n",
       "      <th>Y2014</th>\n",
       "      <th>Y2015</th>\n",
       "      <th>Y2016</th>\n",
       "      <th>Y2017</th>\n",
       "      <th>Y2018</th>\n",
       "    </tr>\n",
       "    <tr>\n",
       "      <th>Element</th>\n",
       "      <th></th>\n",
       "      <th></th>\n",
       "      <th></th>\n",
       "      <th></th>\n",
       "      <th></th>\n",
       "      <th></th>\n",
       "      <th></th>\n",
       "      <th></th>\n",
       "    </tr>\n",
       "  </thead>\n",
       "  <tbody>\n",
       "    <tr>\n",
       "      <th>Domestic supply quantity</th>\n",
       "      <td>708993</td>\n",
       "      <td>14197445</td>\n",
       "      <td>28068795</td>\n",
       "      <td>1996716.35</td>\n",
       "      <td>2021493.55</td>\n",
       "      <td>2044842.70</td>\n",
       "      <td>2088198.10</td>\n",
       "      <td>2161192.10</td>\n",
       "    </tr>\n",
       "    <tr>\n",
       "      <th>Export Quantity</th>\n",
       "      <td>599910</td>\n",
       "      <td>11840553</td>\n",
       "      <td>26026133</td>\n",
       "      <td>150020.64</td>\n",
       "      <td>157614.47</td>\n",
       "      <td>151920.46</td>\n",
       "      <td>182338.80</td>\n",
       "      <td>181594.80</td>\n",
       "    </tr>\n",
       "    <tr>\n",
       "      <th>Fat supply quantity (g/capita/day)</th>\n",
       "      <td>675050</td>\n",
       "      <td>13535000</td>\n",
       "      <td>3435732</td>\n",
       "      <td>10225.56</td>\n",
       "      <td>10235.74</td>\n",
       "      <td>10102.77</td>\n",
       "      <td>10253.84</td>\n",
       "      <td>10258.69</td>\n",
       "    </tr>\n",
       "    <tr>\n",
       "      <th>Feed</th>\n",
       "      <td>176272</td>\n",
       "      <td>3538507</td>\n",
       "      <td>7282199</td>\n",
       "      <td>216927.89</td>\n",
       "      <td>225050.22</td>\n",
       "      <td>228958.65</td>\n",
       "      <td>223705.68</td>\n",
       "      <td>233489.68</td>\n",
       "    </tr>\n",
       "    <tr>\n",
       "      <th>Food</th>\n",
       "      <td>663295</td>\n",
       "      <td>13285035</td>\n",
       "      <td>25406622</td>\n",
       "      <td>1212332.49</td>\n",
       "      <td>1232361.10</td>\n",
       "      <td>1247022.17</td>\n",
       "      <td>1258888.28</td>\n",
       "      <td>1303841.28</td>\n",
       "    </tr>\n",
       "    <tr>\n",
       "      <th>Food supply (kcal/capita/day)</th>\n",
       "      <td>674057</td>\n",
       "      <td>13511060</td>\n",
       "      <td>3329296</td>\n",
       "      <td>454257.00</td>\n",
       "      <td>453383.00</td>\n",
       "      <td>451810.00</td>\n",
       "      <td>454681.00</td>\n",
       "      <td>455261.00</td>\n",
       "    </tr>\n",
       "    <tr>\n",
       "      <th>Food supply quantity (kg/capita/yr)</th>\n",
       "      <td>658446</td>\n",
       "      <td>13185401</td>\n",
       "      <td>3163725</td>\n",
       "      <td>49650.63</td>\n",
       "      <td>49345.13</td>\n",
       "      <td>48985.28</td>\n",
       "      <td>48690.04</td>\n",
       "      <td>49056.85</td>\n",
       "    </tr>\n",
       "    <tr>\n",
       "      <th>Import Quantity</th>\n",
       "      <td>688174</td>\n",
       "      <td>13795966</td>\n",
       "      <td>28834929</td>\n",
       "      <td>274144.48</td>\n",
       "      <td>267018.46</td>\n",
       "      <td>286582.78</td>\n",
       "      <td>294559.09</td>\n",
       "      <td>287997.09</td>\n",
       "    </tr>\n",
       "    <tr>\n",
       "      <th>Losses</th>\n",
       "      <td>274353</td>\n",
       "      <td>5424803</td>\n",
       "      <td>10292107</td>\n",
       "      <td>153223.00</td>\n",
       "      <td>155439.00</td>\n",
       "      <td>157787.00</td>\n",
       "      <td>160614.00</td>\n",
       "      <td>163902.00</td>\n",
       "    </tr>\n",
       "    <tr>\n",
       "      <th>Other uses (non-food)</th>\n",
       "      <td>235554</td>\n",
       "      <td>4729749</td>\n",
       "      <td>8926728</td>\n",
       "      <td>78718.13</td>\n",
       "      <td>66254.41</td>\n",
       "      <td>69563.68</td>\n",
       "      <td>91645.97</td>\n",
       "      <td>91300.97</td>\n",
       "    </tr>\n",
       "    <tr>\n",
       "      <th>Processing</th>\n",
       "      <td>271940</td>\n",
       "      <td>5350416</td>\n",
       "      <td>10313310</td>\n",
       "      <td>282923.00</td>\n",
       "      <td>287929.00</td>\n",
       "      <td>280631.00</td>\n",
       "      <td>292836.00</td>\n",
       "      <td>308429.00</td>\n",
       "    </tr>\n",
       "    <tr>\n",
       "      <th>Production</th>\n",
       "      <td>526751</td>\n",
       "      <td>10450053</td>\n",
       "      <td>21388191</td>\n",
       "      <td>1931287.75</td>\n",
       "      <td>1947019.39</td>\n",
       "      <td>1943537.15</td>\n",
       "      <td>2030056.89</td>\n",
       "      <td>2075072.89</td>\n",
       "    </tr>\n",
       "    <tr>\n",
       "      <th>Protein supply quantity (g/capita/day)</th>\n",
       "      <td>675050</td>\n",
       "      <td>13535000</td>\n",
       "      <td>3385502</td>\n",
       "      <td>11836.46</td>\n",
       "      <td>11833.95</td>\n",
       "      <td>11779.69</td>\n",
       "      <td>11842.45</td>\n",
       "      <td>11833.56</td>\n",
       "    </tr>\n",
       "    <tr>\n",
       "      <th>Residuals</th>\n",
       "      <td>623271</td>\n",
       "      <td>12421089</td>\n",
       "      <td>24066350</td>\n",
       "      <td>30149.00</td>\n",
       "      <td>30045.00</td>\n",
       "      <td>37224.00</td>\n",
       "      <td>35500.00</td>\n",
       "      <td>34864.00</td>\n",
       "    </tr>\n",
       "    <tr>\n",
       "      <th>Seed</th>\n",
       "      <td>103537</td>\n",
       "      <td>2035933</td>\n",
       "      <td>4211574</td>\n",
       "      <td>21922.92</td>\n",
       "      <td>23976.82</td>\n",
       "      <td>23389.20</td>\n",
       "      <td>24870.14</td>\n",
       "      <td>25263.14</td>\n",
       "    </tr>\n",
       "    <tr>\n",
       "      <th>Stock Variation</th>\n",
       "      <td>571566</td>\n",
       "      <td>11329527</td>\n",
       "      <td>21464704</td>\n",
       "      <td>58749.83</td>\n",
       "      <td>34910.99</td>\n",
       "      <td>33140.12</td>\n",
       "      <td>54316.91</td>\n",
       "      <td>20577.91</td>\n",
       "    </tr>\n",
       "    <tr>\n",
       "      <th>Total Population - Both sexes</th>\n",
       "      <td>6020</td>\n",
       "      <td>112545</td>\n",
       "      <td>22995</td>\n",
       "      <td>1031585.00</td>\n",
       "      <td>1058081.00</td>\n",
       "      <td>1085107.00</td>\n",
       "      <td>1112641.00</td>\n",
       "      <td>1140605.00</td>\n",
       "    </tr>\n",
       "    <tr>\n",
       "      <th>Tourist consumption</th>\n",
       "      <td>50308</td>\n",
       "      <td>1486528</td>\n",
       "      <td>2869905</td>\n",
       "      <td>416.00</td>\n",
       "      <td>349.00</td>\n",
       "      <td>89.00</td>\n",
       "      <td>91.00</td>\n",
       "      <td>90.00</td>\n",
       "    </tr>\n",
       "  </tbody>\n",
       "</table>\n",
       "</div>"
      ],
      "text/plain": [
       "                                        Area_code  Item_code  Element_code  \\\n",
       "Element                                                                      \n",
       "Domestic supply quantity                   708993   14197445      28068795   \n",
       "Export Quantity                            599910   11840553      26026133   \n",
       "Fat supply quantity (g/capita/day)         675050   13535000       3435732   \n",
       "Feed                                       176272    3538507       7282199   \n",
       "Food                                       663295   13285035      25406622   \n",
       "Food supply (kcal/capita/day)              674057   13511060       3329296   \n",
       "Food supply quantity (kg/capita/yr)        658446   13185401       3163725   \n",
       "Import Quantity                            688174   13795966      28834929   \n",
       "Losses                                     274353    5424803      10292107   \n",
       "Other uses (non-food)                      235554    4729749       8926728   \n",
       "Processing                                 271940    5350416      10313310   \n",
       "Production                                 526751   10450053      21388191   \n",
       "Protein supply quantity (g/capita/day)     675050   13535000       3385502   \n",
       "Residuals                                  623271   12421089      24066350   \n",
       "Seed                                       103537    2035933       4211574   \n",
       "Stock Variation                            571566   11329527      21464704   \n",
       "Total Population - Both sexes                6020     112545         22995   \n",
       "Tourist consumption                         50308    1486528       2869905   \n",
       "\n",
       "                                             Y2014       Y2015       Y2016  \\\n",
       "Element                                                                      \n",
       "Domestic supply quantity                1996716.35  2021493.55  2044842.70   \n",
       "Export Quantity                          150020.64   157614.47   151920.46   \n",
       "Fat supply quantity (g/capita/day)        10225.56    10235.74    10102.77   \n",
       "Feed                                     216927.89   225050.22   228958.65   \n",
       "Food                                    1212332.49  1232361.10  1247022.17   \n",
       "Food supply (kcal/capita/day)            454257.00   453383.00   451810.00   \n",
       "Food supply quantity (kg/capita/yr)       49650.63    49345.13    48985.28   \n",
       "Import Quantity                          274144.48   267018.46   286582.78   \n",
       "Losses                                   153223.00   155439.00   157787.00   \n",
       "Other uses (non-food)                     78718.13    66254.41    69563.68   \n",
       "Processing                               282923.00   287929.00   280631.00   \n",
       "Production                              1931287.75  1947019.39  1943537.15   \n",
       "Protein supply quantity (g/capita/day)    11836.46    11833.95    11779.69   \n",
       "Residuals                                 30149.00    30045.00    37224.00   \n",
       "Seed                                      21922.92    23976.82    23389.20   \n",
       "Stock Variation                           58749.83    34910.99    33140.12   \n",
       "Total Population - Both sexes           1031585.00  1058081.00  1085107.00   \n",
       "Tourist consumption                         416.00      349.00       89.00   \n",
       "\n",
       "                                             Y2017       Y2018  \n",
       "Element                                                         \n",
       "Domestic supply quantity                2088198.10  2161192.10  \n",
       "Export Quantity                          182338.80   181594.80  \n",
       "Fat supply quantity (g/capita/day)        10253.84    10258.69  \n",
       "Feed                                     223705.68   233489.68  \n",
       "Food                                    1258888.28  1303841.28  \n",
       "Food supply (kcal/capita/day)            454681.00   455261.00  \n",
       "Food supply quantity (kg/capita/yr)       48690.04    49056.85  \n",
       "Import Quantity                          294559.09   287997.09  \n",
       "Losses                                   160614.00   163902.00  \n",
       "Other uses (non-food)                     91645.97    91300.97  \n",
       "Processing                               292836.00   308429.00  \n",
       "Production                              2030056.89  2075072.89  \n",
       "Protein supply quantity (g/capita/day)    11842.45    11833.56  \n",
       "Residuals                                 35500.00    34864.00  \n",
       "Seed                                      24870.14    25263.14  \n",
       "Stock Variation                           54316.91    20577.91  \n",
       "Total Population - Both sexes           1112641.00  1140605.00  \n",
       "Tourist consumption                          91.00       90.00  "
      ]
     },
     "execution_count": 20,
     "metadata": {},
     "output_type": "execute_result"
    }
   ],
   "source": [
    "df.groupby('Element').sum()"
   ]
  },
  {
   "cell_type": "code",
   "execution_count": 21,
   "id": "7ac06224",
   "metadata": {},
   "outputs": [],
   "source": [
    "# Answer: Y2017"
   ]
  },
  {
   "cell_type": "code",
   "execution_count": 22,
   "id": "032640ab",
   "metadata": {},
   "outputs": [],
   "source": [
    "# Question: What is the total sum of production in 2014?"
   ]
  },
  {
   "cell_type": "code",
   "execution_count": 23,
   "id": "340430eb",
   "metadata": {},
   "outputs": [
    {
     "data": {
      "text/plain": [
       "1931287.75"
      ]
     },
     "execution_count": 23,
     "metadata": {},
     "output_type": "execute_result"
    }
   ],
   "source": [
    "production_sum = df.groupby(['Element'])\n",
    "production_sum.get_group('Production')['Y2014'].sum()"
   ]
  },
  {
   "cell_type": "code",
   "execution_count": 24,
   "id": "06179484",
   "metadata": {
    "scrolled": true
   },
   "outputs": [
    {
     "data": {
      "text/plain": [
       "Element\n",
       "Domestic supply quantity                  2161192.10\n",
       "Export Quantity                            181594.80\n",
       "Fat supply quantity (g/capita/day)          10258.69\n",
       "Feed                                       233489.68\n",
       "Food                                      1303841.28\n",
       "Food supply (kcal/capita/day)              455261.00\n",
       "Food supply quantity (kg/capita/yr)         49056.85\n",
       "Import Quantity                            287997.09\n",
       "Losses                                     163902.00\n",
       "Other uses (non-food)                       91300.97\n",
       "Processing                                 308429.00\n",
       "Production                                2075072.89\n",
       "Protein supply quantity (g/capita/day)      11833.56\n",
       "Residuals                                   34864.00\n",
       "Seed                                        25263.14\n",
       "Stock Variation                             20577.91\n",
       "Total Population - Both sexes             1140605.00\n",
       "Tourist consumption                            90.00\n",
       "Name: Y2018, dtype: float64"
      ]
     },
     "execution_count": 24,
     "metadata": {},
     "output_type": "execute_result"
    }
   ],
   "source": [
    "# Which of these elements had the highest sum in 2018?\n",
    "df.groupby(['Element']).Y2018.sum()"
   ]
  },
  {
   "cell_type": "code",
   "execution_count": 25,
   "id": "0ef1ba3b",
   "metadata": {},
   "outputs": [],
   "source": [
    "# Answer: Domestic supply quantity"
   ]
  },
  {
   "cell_type": "code",
   "execution_count": 26,
   "id": "53978f91",
   "metadata": {},
   "outputs": [
    {
     "data": {
      "text/plain": [
       "Element\n",
       "Domestic supply quantity                  2161192.10\n",
       "Export Quantity                            181594.80\n",
       "Fat supply quantity (g/capita/day)          10258.69\n",
       "Feed                                       233489.68\n",
       "Food                                      1303841.28\n",
       "Food supply (kcal/capita/day)              455261.00\n",
       "Food supply quantity (kg/capita/yr)         49056.85\n",
       "Import Quantity                            287997.09\n",
       "Losses                                     163902.00\n",
       "Other uses (non-food)                       91300.97\n",
       "Processing                                 308429.00\n",
       "Production                                2075072.89\n",
       "Protein supply quantity (g/capita/day)      11833.56\n",
       "Residuals                                   34864.00\n",
       "Seed                                        25263.14\n",
       "Stock Variation                             20577.91\n",
       "Total Population - Both sexes             1140605.00\n",
       "Tourist consumption                            90.00\n",
       "Name: Y2018, dtype: float64"
      ]
     },
     "execution_count": 26,
     "metadata": {},
     "output_type": "execute_result"
    }
   ],
   "source": [
    "# Which of these elements had the 3rd lowest sum in 2018?\n",
    "\n",
    "# Hint-  Select columns ‘Y2018’ and ‘Element’, Perform a groupby operation on ‘Element’ on the selected dataframe and answer the  question. \n",
    "df.groupby('Element').Y2018.sum()"
   ]
  },
  {
   "cell_type": "code",
   "execution_count": 27,
   "id": "a6cdc860",
   "metadata": {},
   "outputs": [],
   "source": [
    "# Answer: Protein supply quantity (g/capita/day)"
   ]
  },
  {
   "cell_type": "code",
   "execution_count": 28,
   "id": "b4404406",
   "metadata": {},
   "outputs": [
    {
     "data": {
      "text/plain": [
       "287997.08999999997"
      ]
     },
     "execution_count": 28,
     "metadata": {},
     "output_type": "execute_result"
    }
   ],
   "source": [
    "# What is the total Import Quantity in Algeria in 2018?\n",
    "Algeria_import = df.groupby(['Element'])['Y2018']\n",
    "Algeria_import.get_group('Import Quantity').sum()\n"
   ]
  },
  {
   "cell_type": "code",
   "execution_count": 29,
   "id": "70959a03",
   "metadata": {},
   "outputs": [
    {
     "data": {
      "text/plain": [
       "49"
      ]
     },
     "execution_count": 29,
     "metadata": {},
     "output_type": "execute_result"
    }
   ],
   "source": [
    "# What is the total number of unique countries in the dataset?\n",
    "df.Area.nunique()"
   ]
  }
 ],
 "metadata": {
  "kernelspec": {
   "display_name": "Python 3",
   "language": "python",
   "name": "python3"
  },
  "language_info": {
   "codemirror_mode": {
    "name": "ipython",
    "version": 3
   },
   "file_extension": ".py",
   "mimetype": "text/x-python",
   "name": "python",
   "nbconvert_exporter": "python",
   "pygments_lexer": "ipython3",
   "version": "3.8.8"
  }
 },
 "nbformat": 4,
 "nbformat_minor": 5
}
